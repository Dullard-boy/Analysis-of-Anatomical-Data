{
 "cells": [
  {
   "cell_type": "code",
   "execution_count": 1,
   "metadata": {},
   "outputs": [],
   "source": [
    "import pandas as pd"
   ]
  },
  {
   "cell_type": "code",
   "execution_count": 2,
   "metadata": {},
   "outputs": [],
   "source": [
    "data=pd.read_excel('C:/Users/good/Desktop/Peace/PEACE EXCEL.xlsx')"
   ]
  },
  {
   "cell_type": "code",
   "execution_count": 3,
   "metadata": {
    "scrolled": true
   },
   "outputs": [
    {
     "data": {
      "text/html": [
       "<div>\n",
       "<style scoped>\n",
       "    .dataframe tbody tr th:only-of-type {\n",
       "        vertical-align: middle;\n",
       "    }\n",
       "\n",
       "    .dataframe tbody tr th {\n",
       "        vertical-align: top;\n",
       "    }\n",
       "\n",
       "    .dataframe thead th {\n",
       "        text-align: right;\n",
       "    }\n",
       "</style>\n",
       "<table border=\"1\" class=\"dataframe\">\n",
       "  <thead>\n",
       "    <tr style=\"text-align: right;\">\n",
       "      <th></th>\n",
       "      <th>GENDER</th>\n",
       "      <th>AGE</th>\n",
       "      <th>DEPARTMENT</th>\n",
       "      <th>FACULTY</th>\n",
       "      <th>LEVEL</th>\n",
       "      <th>GRADE</th>\n",
       "      <th>PROGRAM</th>\n",
       "      <th>RESEARCH TYPE</th>\n",
       "      <th>a</th>\n",
       "      <th>b</th>\n",
       "      <th>...</th>\n",
       "      <th>g</th>\n",
       "      <th>h</th>\n",
       "      <th>i</th>\n",
       "      <th>j</th>\n",
       "      <th>k</th>\n",
       "      <th>l</th>\n",
       "      <th>m</th>\n",
       "      <th>n</th>\n",
       "      <th>o</th>\n",
       "      <th>p</th>\n",
       "    </tr>\n",
       "  </thead>\n",
       "  <tbody>\n",
       "    <tr>\n",
       "      <th>0</th>\n",
       "      <td>MALE</td>\n",
       "      <td>24</td>\n",
       "      <td>ANATOMY</td>\n",
       "      <td>BMS</td>\n",
       "      <td>400</td>\n",
       "      <td>B</td>\n",
       "      <td>UNDERGRADUATE</td>\n",
       "      <td>LAB WORK</td>\n",
       "      <td>1</td>\n",
       "      <td>1</td>\n",
       "      <td>...</td>\n",
       "      <td>2</td>\n",
       "      <td>2</td>\n",
       "      <td>2</td>\n",
       "      <td>4</td>\n",
       "      <td>2</td>\n",
       "      <td>1</td>\n",
       "      <td>1</td>\n",
       "      <td>2</td>\n",
       "      <td>1</td>\n",
       "      <td>3</td>\n",
       "    </tr>\n",
       "    <tr>\n",
       "      <th>1</th>\n",
       "      <td>FEMALE</td>\n",
       "      <td>19</td>\n",
       "      <td>ANATOMY</td>\n",
       "      <td>BMS</td>\n",
       "      <td>400</td>\n",
       "      <td>B</td>\n",
       "      <td>UNDERGRADUATE</td>\n",
       "      <td>LAB WORK</td>\n",
       "      <td>1</td>\n",
       "      <td>1</td>\n",
       "      <td>...</td>\n",
       "      <td>2</td>\n",
       "      <td>2</td>\n",
       "      <td>1</td>\n",
       "      <td>2</td>\n",
       "      <td>2</td>\n",
       "      <td>1</td>\n",
       "      <td>1</td>\n",
       "      <td>4</td>\n",
       "      <td>1</td>\n",
       "      <td>2</td>\n",
       "    </tr>\n",
       "    <tr>\n",
       "      <th>2</th>\n",
       "      <td>MALE</td>\n",
       "      <td>24</td>\n",
       "      <td>ANATOMY</td>\n",
       "      <td>BMS</td>\n",
       "      <td>400</td>\n",
       "      <td>A</td>\n",
       "      <td>UNDERGRADUATE</td>\n",
       "      <td>LAB WORK</td>\n",
       "      <td>3</td>\n",
       "      <td>1</td>\n",
       "      <td>...</td>\n",
       "      <td>1</td>\n",
       "      <td>1</td>\n",
       "      <td>1</td>\n",
       "      <td>2</td>\n",
       "      <td>1</td>\n",
       "      <td>1</td>\n",
       "      <td>2</td>\n",
       "      <td>1</td>\n",
       "      <td>1</td>\n",
       "      <td>1</td>\n",
       "    </tr>\n",
       "    <tr>\n",
       "      <th>3</th>\n",
       "      <td>MALE</td>\n",
       "      <td>21</td>\n",
       "      <td>ANATOMY</td>\n",
       "      <td>BMS</td>\n",
       "      <td>400</td>\n",
       "      <td>B</td>\n",
       "      <td>UNDERGRADUATE</td>\n",
       "      <td>LAB WORK</td>\n",
       "      <td>1</td>\n",
       "      <td>1</td>\n",
       "      <td>...</td>\n",
       "      <td>2</td>\n",
       "      <td>1</td>\n",
       "      <td>1</td>\n",
       "      <td>1</td>\n",
       "      <td>2</td>\n",
       "      <td>1</td>\n",
       "      <td>1</td>\n",
       "      <td>1</td>\n",
       "      <td>2</td>\n",
       "      <td>2</td>\n",
       "    </tr>\n",
       "    <tr>\n",
       "      <th>4</th>\n",
       "      <td>MALE</td>\n",
       "      <td>23</td>\n",
       "      <td>ANATOMY</td>\n",
       "      <td>BMS</td>\n",
       "      <td>400</td>\n",
       "      <td>B</td>\n",
       "      <td>UNDERGRADUATE</td>\n",
       "      <td>LAB WORK</td>\n",
       "      <td>3</td>\n",
       "      <td>1</td>\n",
       "      <td>...</td>\n",
       "      <td>2</td>\n",
       "      <td>1</td>\n",
       "      <td>1</td>\n",
       "      <td>3</td>\n",
       "      <td>1</td>\n",
       "      <td>2</td>\n",
       "      <td>2</td>\n",
       "      <td>3</td>\n",
       "      <td>1</td>\n",
       "      <td>1</td>\n",
       "    </tr>\n",
       "    <tr>\n",
       "      <th>...</th>\n",
       "      <td>...</td>\n",
       "      <td>...</td>\n",
       "      <td>...</td>\n",
       "      <td>...</td>\n",
       "      <td>...</td>\n",
       "      <td>...</td>\n",
       "      <td>...</td>\n",
       "      <td>...</td>\n",
       "      <td>...</td>\n",
       "      <td>...</td>\n",
       "      <td>...</td>\n",
       "      <td>...</td>\n",
       "      <td>...</td>\n",
       "      <td>...</td>\n",
       "      <td>...</td>\n",
       "      <td>...</td>\n",
       "      <td>...</td>\n",
       "      <td>...</td>\n",
       "      <td>...</td>\n",
       "      <td>...</td>\n",
       "      <td>...</td>\n",
       "    </tr>\n",
       "    <tr>\n",
       "      <th>195</th>\n",
       "      <td>FEMALE</td>\n",
       "      <td>23</td>\n",
       "      <td>PHYSIOLOGY</td>\n",
       "      <td>BMS</td>\n",
       "      <td>400</td>\n",
       "      <td>B</td>\n",
       "      <td>UNDERGRADUATE</td>\n",
       "      <td>FIELD WORK</td>\n",
       "      <td>1</td>\n",
       "      <td>2</td>\n",
       "      <td>...</td>\n",
       "      <td>1</td>\n",
       "      <td>1</td>\n",
       "      <td>2</td>\n",
       "      <td>1</td>\n",
       "      <td>1</td>\n",
       "      <td>1</td>\n",
       "      <td>1</td>\n",
       "      <td>1</td>\n",
       "      <td>4</td>\n",
       "      <td>1</td>\n",
       "    </tr>\n",
       "    <tr>\n",
       "      <th>196</th>\n",
       "      <td>MALE</td>\n",
       "      <td>21</td>\n",
       "      <td>PHYSIOLOGY</td>\n",
       "      <td>BMS</td>\n",
       "      <td>400</td>\n",
       "      <td>B</td>\n",
       "      <td>UNDERGRADUATE</td>\n",
       "      <td>FIELD WORK</td>\n",
       "      <td>3</td>\n",
       "      <td>1</td>\n",
       "      <td>...</td>\n",
       "      <td>3</td>\n",
       "      <td>2</td>\n",
       "      <td>1</td>\n",
       "      <td>2</td>\n",
       "      <td>3</td>\n",
       "      <td>3</td>\n",
       "      <td>3</td>\n",
       "      <td>2</td>\n",
       "      <td>2</td>\n",
       "      <td>2</td>\n",
       "    </tr>\n",
       "    <tr>\n",
       "      <th>197</th>\n",
       "      <td>MALE</td>\n",
       "      <td>25</td>\n",
       "      <td>PHYSIOLOGY</td>\n",
       "      <td>BMS</td>\n",
       "      <td>400</td>\n",
       "      <td>B</td>\n",
       "      <td>UNDERGRADUATE</td>\n",
       "      <td>LAB WORK</td>\n",
       "      <td>1</td>\n",
       "      <td>3</td>\n",
       "      <td>...</td>\n",
       "      <td>3</td>\n",
       "      <td>1</td>\n",
       "      <td>1</td>\n",
       "      <td>3</td>\n",
       "      <td>3</td>\n",
       "      <td>1</td>\n",
       "      <td>1</td>\n",
       "      <td>3</td>\n",
       "      <td>1</td>\n",
       "      <td>3</td>\n",
       "    </tr>\n",
       "    <tr>\n",
       "      <th>198</th>\n",
       "      <td>FEMALE</td>\n",
       "      <td>23</td>\n",
       "      <td>PHYSIOLOGY</td>\n",
       "      <td>BMS</td>\n",
       "      <td>400</td>\n",
       "      <td>B</td>\n",
       "      <td>UNDERGRADUATE</td>\n",
       "      <td>LAB WORK</td>\n",
       "      <td>2</td>\n",
       "      <td>4</td>\n",
       "      <td>...</td>\n",
       "      <td>1</td>\n",
       "      <td>1</td>\n",
       "      <td>2</td>\n",
       "      <td>1</td>\n",
       "      <td>1</td>\n",
       "      <td>2</td>\n",
       "      <td>3</td>\n",
       "      <td>1</td>\n",
       "      <td>2</td>\n",
       "      <td>3</td>\n",
       "    </tr>\n",
       "    <tr>\n",
       "      <th>199</th>\n",
       "      <td>FEMALE</td>\n",
       "      <td>23</td>\n",
       "      <td>PHYSIOLOGY</td>\n",
       "      <td>BMS</td>\n",
       "      <td>400</td>\n",
       "      <td>B</td>\n",
       "      <td>UNDERGRADUATE</td>\n",
       "      <td>LAB WORK</td>\n",
       "      <td>2</td>\n",
       "      <td>4</td>\n",
       "      <td>...</td>\n",
       "      <td>1</td>\n",
       "      <td>1</td>\n",
       "      <td>2</td>\n",
       "      <td>1</td>\n",
       "      <td>1</td>\n",
       "      <td>2</td>\n",
       "      <td>3</td>\n",
       "      <td>1</td>\n",
       "      <td>2</td>\n",
       "      <td>3</td>\n",
       "    </tr>\n",
       "  </tbody>\n",
       "</table>\n",
       "<p>200 rows × 24 columns</p>\n",
       "</div>"
      ],
      "text/plain": [
       "     GENDER  AGE  DEPARTMENT FACULTY  LEVEL GRADE        PROGRAM  \\\n",
       "0      MALE   24     ANATOMY     BMS    400     B  UNDERGRADUATE   \n",
       "1    FEMALE   19     ANATOMY     BMS    400     B  UNDERGRADUATE   \n",
       "2      MALE   24     ANATOMY     BMS    400     A  UNDERGRADUATE   \n",
       "3      MALE   21     ANATOMY     BMS    400     B  UNDERGRADUATE   \n",
       "4      MALE   23     ANATOMY     BMS    400     B  UNDERGRADUATE   \n",
       "..      ...  ...         ...     ...    ...   ...            ...   \n",
       "195  FEMALE   23  PHYSIOLOGY     BMS    400     B  UNDERGRADUATE   \n",
       "196    MALE   21  PHYSIOLOGY     BMS    400     B  UNDERGRADUATE   \n",
       "197    MALE   25  PHYSIOLOGY     BMS    400     B  UNDERGRADUATE   \n",
       "198  FEMALE   23  PHYSIOLOGY     BMS    400     B  UNDERGRADUATE   \n",
       "199  FEMALE   23  PHYSIOLOGY     BMS    400     B  UNDERGRADUATE   \n",
       "\n",
       "    RESEARCH TYPE  a  b  ...  g  h  i  j  k  l  m  n  o  p  \n",
       "0        LAB WORK  1  1  ...  2  2  2  4  2  1  1  2  1  3  \n",
       "1        LAB WORK  1  1  ...  2  2  1  2  2  1  1  4  1  2  \n",
       "2        LAB WORK  3  1  ...  1  1  1  2  1  1  2  1  1  1  \n",
       "3        LAB WORK  1  1  ...  2  1  1  1  2  1  1  1  2  2  \n",
       "4        LAB WORK  3  1  ...  2  1  1  3  1  2  2  3  1  1  \n",
       "..            ... .. ..  ... .. .. .. .. .. .. .. .. .. ..  \n",
       "195    FIELD WORK  1  2  ...  1  1  2  1  1  1  1  1  4  1  \n",
       "196    FIELD WORK  3  1  ...  3  2  1  2  3  3  3  2  2  2  \n",
       "197      LAB WORK  1  3  ...  3  1  1  3  3  1  1  3  1  3  \n",
       "198      LAB WORK  2  4  ...  1  1  2  1  1  2  3  1  2  3  \n",
       "199      LAB WORK  2  4  ...  1  1  2  1  1  2  3  1  2  3  \n",
       "\n",
       "[200 rows x 24 columns]"
      ]
     },
     "execution_count": 3,
     "metadata": {},
     "output_type": "execute_result"
    }
   ],
   "source": [
    "data"
   ]
  },
  {
   "cell_type": "code",
   "execution_count": 4,
   "metadata": {},
   "outputs": [
    {
     "data": {
      "text/plain": [
       "LAB WORK      149\n",
       "FIELD WORK     51\n",
       "Name: RESEARCH TYPE, dtype: int64"
      ]
     },
     "execution_count": 4,
     "metadata": {},
     "output_type": "execute_result"
    }
   ],
   "source": [
    "data['RESEARCH TYPE'].value_counts()"
   ]
  },
  {
   "cell_type": "code",
   "execution_count": 5,
   "metadata": {},
   "outputs": [
    {
     "data": {
      "text/plain": [
       "B    76\n",
       "A    38\n",
       "C    35\n",
       "D    33\n",
       "F    18\n",
       "Name: GRADE, dtype: int64"
      ]
     },
     "execution_count": 5,
     "metadata": {},
     "output_type": "execute_result"
    }
   ],
   "source": [
    "data['GRADE'].value_counts()"
   ]
  },
  {
   "cell_type": "code",
   "execution_count": 6,
   "metadata": {},
   "outputs": [
    {
     "data": {
      "text/plain": [
       "FEMALE    107\n",
       "MALE       93\n",
       "Name: GENDER, dtype: int64"
      ]
     },
     "execution_count": 6,
     "metadata": {},
     "output_type": "execute_result"
    }
   ],
   "source": [
    "data['GENDER'].value_counts()"
   ]
  },
  {
   "cell_type": "code",
   "execution_count": 7,
   "metadata": {},
   "outputs": [
    {
     "data": {
      "text/plain": [
       "21    63\n",
       "23    40\n",
       "24    21\n",
       "22    19\n",
       "20    18\n",
       "19    14\n",
       "25    11\n",
       "26     5\n",
       "28     4\n",
       "27     4\n",
       "2      1\n",
       "Name: AGE, dtype: int64"
      ]
     },
     "execution_count": 7,
     "metadata": {},
     "output_type": "execute_result"
    }
   ],
   "source": [
    "data['AGE'].value_counts()"
   ]
  },
  {
   "cell_type": "code",
   "execution_count": 8,
   "metadata": {},
   "outputs": [
    {
     "data": {
      "text/plain": [
       "ANATOMY       102\n",
       "PHYSIOLOGY     98\n",
       "Name: DEPARTMENT, dtype: int64"
      ]
     },
     "execution_count": 8,
     "metadata": {},
     "output_type": "execute_result"
    }
   ],
   "source": [
    "data['DEPARTMENT'].value_counts()"
   ]
  },
  {
   "cell_type": "code",
   "execution_count": 9,
   "metadata": {},
   "outputs": [],
   "source": [
    "df=data.groupby('GENDER')\n",
    "male=df.get_group('MALE')\n",
    "female=df.get_group('FEMALE')\n",
    "df1=data.groupby('DEPARTMENT')\n",
    "ana= df1.get_group('ANATOMY')\n",
    "phy= df1.get_group('PHYSIOLOGY')"
   ]
  },
  {
   "cell_type": "code",
   "execution_count": 10,
   "metadata": {},
   "outputs": [],
   "source": [
    "anat=ana.loc[:,['a','b','c','d','e','f','g','h','i','j','k','l','m','n','o','p']].apply(pd.Series.value_counts)"
   ]
  },
  {
   "cell_type": "code",
   "execution_count": 26,
   "metadata": {},
   "outputs": [
    {
     "data": {
      "text/html": [
       "<div>\n",
       "<style scoped>\n",
       "    .dataframe tbody tr th:only-of-type {\n",
       "        vertical-align: middle;\n",
       "    }\n",
       "\n",
       "    .dataframe tbody tr th {\n",
       "        vertical-align: top;\n",
       "    }\n",
       "\n",
       "    .dataframe thead th {\n",
       "        text-align: right;\n",
       "    }\n",
       "</style>\n",
       "<table border=\"1\" class=\"dataframe\">\n",
       "  <thead>\n",
       "    <tr style=\"text-align: right;\">\n",
       "      <th></th>\n",
       "      <th>a</th>\n",
       "      <th>b</th>\n",
       "      <th>c</th>\n",
       "      <th>d</th>\n",
       "      <th>e</th>\n",
       "      <th>f</th>\n",
       "      <th>g</th>\n",
       "      <th>h</th>\n",
       "      <th>i</th>\n",
       "      <th>j</th>\n",
       "      <th>k</th>\n",
       "      <th>l</th>\n",
       "      <th>m</th>\n",
       "      <th>n</th>\n",
       "      <th>o</th>\n",
       "      <th>p</th>\n",
       "    </tr>\n",
       "  </thead>\n",
       "  <tbody>\n",
       "    <tr>\n",
       "      <th>1</th>\n",
       "      <td>37</td>\n",
       "      <td>55</td>\n",
       "      <td>56</td>\n",
       "      <td>44</td>\n",
       "      <td>25</td>\n",
       "      <td>39</td>\n",
       "      <td>27</td>\n",
       "      <td>32</td>\n",
       "      <td>56</td>\n",
       "      <td>36</td>\n",
       "      <td>29</td>\n",
       "      <td>56</td>\n",
       "      <td>55</td>\n",
       "      <td>46</td>\n",
       "      <td>42</td>\n",
       "      <td>44</td>\n",
       "    </tr>\n",
       "    <tr>\n",
       "      <th>2</th>\n",
       "      <td>26</td>\n",
       "      <td>28</td>\n",
       "      <td>16</td>\n",
       "      <td>21</td>\n",
       "      <td>40</td>\n",
       "      <td>28</td>\n",
       "      <td>43</td>\n",
       "      <td>34</td>\n",
       "      <td>29</td>\n",
       "      <td>22</td>\n",
       "      <td>48</td>\n",
       "      <td>14</td>\n",
       "      <td>18</td>\n",
       "      <td>18</td>\n",
       "      <td>29</td>\n",
       "      <td>27</td>\n",
       "    </tr>\n",
       "    <tr>\n",
       "      <th>3</th>\n",
       "      <td>34</td>\n",
       "      <td>12</td>\n",
       "      <td>25</td>\n",
       "      <td>24</td>\n",
       "      <td>23</td>\n",
       "      <td>18</td>\n",
       "      <td>21</td>\n",
       "      <td>27</td>\n",
       "      <td>16</td>\n",
       "      <td>31</td>\n",
       "      <td>19</td>\n",
       "      <td>28</td>\n",
       "      <td>22</td>\n",
       "      <td>27</td>\n",
       "      <td>22</td>\n",
       "      <td>25</td>\n",
       "    </tr>\n",
       "    <tr>\n",
       "      <th>4</th>\n",
       "      <td>5</td>\n",
       "      <td>7</td>\n",
       "      <td>5</td>\n",
       "      <td>13</td>\n",
       "      <td>14</td>\n",
       "      <td>17</td>\n",
       "      <td>11</td>\n",
       "      <td>9</td>\n",
       "      <td>1</td>\n",
       "      <td>13</td>\n",
       "      <td>6</td>\n",
       "      <td>4</td>\n",
       "      <td>7</td>\n",
       "      <td>11</td>\n",
       "      <td>9</td>\n",
       "      <td>6</td>\n",
       "    </tr>\n",
       "  </tbody>\n",
       "</table>\n",
       "</div>"
      ],
      "text/plain": [
       "    a   b   c   d   e   f   g   h   i   j   k   l   m   n   o   p\n",
       "1  37  55  56  44  25  39  27  32  56  36  29  56  55  46  42  44\n",
       "2  26  28  16  21  40  28  43  34  29  22  48  14  18  18  29  27\n",
       "3  34  12  25  24  23  18  21  27  16  31  19  28  22  27  22  25\n",
       "4   5   7   5  13  14  17  11   9   1  13   6   4   7  11   9   6"
      ]
     },
     "execution_count": 26,
     "metadata": {},
     "output_type": "execute_result"
    }
   ],
   "source": [
    "anat"
   ]
  },
  {
   "cell_type": "code",
   "execution_count": 25,
   "metadata": {},
   "outputs": [],
   "source": [
    "anat.to_excel('anatomy.xlsx')"
   ]
  },
  {
   "cell_type": "code",
   "execution_count": 12,
   "metadata": {},
   "outputs": [
    {
     "data": {
      "text/plain": [
       "<AxesSubplot:>"
      ]
     },
     "execution_count": 12,
     "metadata": {},
     "output_type": "execute_result"
    },
    {
     "data": {
      "image/png": "[encoded data removed]",
      "text/plain": [
       "<Figure size 432x288 with 1 Axes>"
      ]
     },
     "metadata": {
      "needs_background": "light"
     },
     "output_type": "display_data"
    }
   ],
   "source": [
    "anat.plot.box()"
   ]
  },
  {
   "cell_type": "code",
   "execution_count": 13,
   "metadata": {},
   "outputs": [],
   "source": [
    "ana['GRADE'].value_counts()\n",
    "df2=pd.DataFrame({'Grades':['A','B','C','D','F'],'Number of students':[12,63,13,9,5]})"
   ]
  },
  {
   "cell_type": "code",
   "execution_count": 27,
   "metadata": {},
   "outputs": [
    {
     "data": {
      "image/png": "[encoded data removed]",
      "text/plain": [
       "<Figure size 432x288 with 1 Axes>"
      ]
     },
     "metadata": {
      "needs_background": "light"
     },
     "output_type": "display_data"
    }
   ],
   "source": [
    "from matplotlib import pyplot as plt\n",
    "fig=plt.figure()\n",
    "ax=fig.add_axes([0,0,1,1])\n",
    "g=df2['Grades']\n",
    "n=df2['Number of students']\n",
    "ax.set_xlabel('Grades')\n",
    "ax.set_ylabel('Number of Students')\n",
    "ax.bar(g,n, width=0.5)\n",
    "plt.savefig('ana', bbox_inches='tight')"
   ]
  },
  {
   "cell_type": "code",
   "execution_count": 28,
   "metadata": {},
   "outputs": [],
   "source": [
    "phys=phy.loc[:,['a','b','c','d','e','f','g','h','i','j','k','l','m','n','o','p']].apply(pd.Series.value_counts)\n",
    "phys.to_excel('physiology.xlsx')"
   ]
  },
  {
   "cell_type": "code",
   "execution_count": 16,
   "metadata": {},
   "outputs": [],
   "source": [
    "phy['GRADE'].value_counts()\n",
    "df3=pd.DataFrame({'Grades':['A','B','C','D','F'],'Number of students':[26,13,22,24,13]})"
   ]
  },
  {
   "cell_type": "code",
   "execution_count": 29,
   "metadata": {},
   "outputs": [
    {
     "data": {
      "image/png": "[encoded data removed]",
      "text/plain": [
       "<Figure size 432x288 with 1 Axes>"
      ]
     },
     "metadata": {
      "needs_background": "light"
     },
     "output_type": "display_data"
    }
   ],
   "source": [
    "from matplotlib import pyplot as plt\n",
    "fig=plt.figure()\n",
    "ax=fig.add_axes([0,0,1,1])\n",
    "g=df3['Grades']\n",
    "n=df3['Number of students']\n",
    "ax.set_xlabel('Grades')\n",
    "ax.set_ylabel('Number of Students')\n",
    "ax.bar(g,n, width=0.5, color='r')\n",
    "plt.savefig('phy', bbox_inches='tight')"
   ]
  },
  {
   "cell_type": "code",
   "execution_count": 30,
   "metadata": {},
   "outputs": [
    {
     "data": {
      "image/png": "[encoded data removed]",
      "text/plain": [
       "<Figure size 432x288 with 1 Axes>"
      ]
     },
     "metadata": {
      "needs_background": "light"
     },
     "output_type": "display_data"
    }
   ],
   "source": [
    "fig=plt.figure()\n",
    "ax=fig.add_axes([0,0,1,1])\n",
    "g=df3['Grades']\n",
    "n1=df3['Number of students']\n",
    "n2=df2['Number of students']\n",
    "ax.set_xlabel('Grades')\n",
    "ax.set_ylabel('Number of Students')\n",
    "ax.scatter(g,n1, color='r')\n",
    "ax.scatter(g,n2, color='y')\n",
    "ax.legend(labels=['Physiology','Anatomy'])\n",
    "plt.savefig('anaphy', bbox_inches='tight')"
   ]
  },
  {
   "cell_type": "code",
   "execution_count": 31,
   "metadata": {},
   "outputs": [],
   "source": [
    "mal=male.loc[:,['a','b','c','d','e','f','g','h','i','j','k','l','m','n','o','p']].apply(pd.Series.value_counts)\n",
    "mal.to_excel('male.xlsx')"
   ]
  },
  {
   "cell_type": "code",
   "execution_count": 20,
   "metadata": {},
   "outputs": [],
   "source": [
    "male['GRADE'].value_counts()\n",
    "df4=pd.DataFrame({'Grades':['A','B','C','D','F'],'Number of Male students':[17,33,14,20,9], 'Number of Female students':[21,43,21,13,9]})"
   ]
  },
  {
   "cell_type": "code",
   "execution_count": 21,
   "metadata": {},
   "outputs": [
    {
     "data": {
      "text/plain": [
       "B    43\n",
       "A    21\n",
       "C    21\n",
       "D    13\n",
       "F     9\n",
       "Name: GRADE, dtype: int64"
      ]
     },
     "execution_count": 21,
     "metadata": {},
     "output_type": "execute_result"
    }
   ],
   "source": [
    "female['GRADE'].value_counts()"
   ]
  },
  {
   "cell_type": "code",
   "execution_count": 36,
   "metadata": {},
   "outputs": [
    {
     "data": {
      "image/png": "[encoded data removed]",
      "text/plain": [
       "<Figure size 432x288 with 1 Axes>"
      ]
     },
     "metadata": {
      "needs_background": "light"
     },
     "output_type": "display_data"
    }
   ],
   "source": [
    "fig=plt.figure()\n",
    "ax=fig.add_axes([0,0,1,1])\n",
    "g=df4['Grades']\n",
    "n1=df4['Number of Male students']\n",
    "n2=df4['Number of Female students']\n",
    "ax.set_xlabel('Grades')\n",
    "ax.set_ylabel('Number of Students')\n",
    "ax.bar(g,n1, color='g')\n",
    "ax.bar(g,n2, bottom=n1, color='y')\n",
    "ax.legend(labels=['Male','Female'])\n",
    "plt.savefig('fmal bar', bbox_inches='tight')"
   ]
  },
  {
   "cell_type": "code",
   "execution_count": 35,
   "metadata": {},
   "outputs": [
    {
     "data": {
      "image/png": "[encoded data removed]",
      "text/plain": [
       "<Figure size 432x288 with 1 Axes>"
      ]
     },
     "metadata": {
      "needs_background": "light"
     },
     "output_type": "display_data"
    }
   ],
   "source": [
    "fig=plt.figure()\n",
    "ax=fig.add_axes([0,0,1,1])\n",
    "g=df4['Grades']\n",
    "n1=df4['Number of Male students']\n",
    "n2=df4['Number of Female students']\n",
    "ax.set_xlabel('Grades')\n",
    "ax.set_ylabel('Number of Students')\n",
    "ax.scatter(g,n1, color='b')\n",
    "ax.scatter(g,n2, color='k')\n",
    "ax.legend(labels=['Male','Female'])\n",
    "plt.savefig('fmal', bbox_inches='tight')"
   ]
  },
  {
   "cell_type": "code",
   "execution_count": 33,
   "metadata": {},
   "outputs": [],
   "source": [
    "fmal=female.loc[:,['a','b','c','d','e','f','g','h','i','j','k','l','m','n','o','p']].apply(pd.Series.value_counts)\n",
    "fmal.to_excel('female.xlsx')"
   ]
  },
  {
   "cell_type": "code",
   "execution_count": null,
   "metadata": {},
   "outputs": [],
   "source": []
  }
 ],
 "metadata": {
  "kernelspec": {
   "display_name": "Python 3",
   "language": "python",
   "name": "python3"
  },
  "language_info": {
   "codemirror_mode": {
    "name": "ipython",
    "version": 3
   },
   "file_extension": ".py",
   "mimetype": "text/x-python",
   "name": "python",
   "nbconvert_exporter": "python",
   "pygments_lexer": "ipython3",
   "version": "3.8.5"
  }
 },
 "nbformat": 4,
 "nbformat_minor": 4
}
