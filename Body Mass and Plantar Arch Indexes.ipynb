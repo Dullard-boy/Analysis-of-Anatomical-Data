{
 "cells": [
  {
   "cell_type": "code",
   "execution_count": 1,
   "metadata": {},
   "outputs": [],
   "source": [
    "import pandas as pd"
   ]
  },
  {
   "cell_type": "code",
   "execution_count": 2,
   "metadata": {},
   "outputs": [],
   "source": [
    "data= pd.read_excel('C:/Users/good/Desktop/muhammad/Must.xlsx')"
   ]
  },
  {
   "cell_type": "code",
   "execution_count": 3,
   "metadata": {},
   "outputs": [
    {
     "data": {
      "text/html": [
       "<div>\n",
       "<style scoped>\n",
       "    .dataframe tbody tr th:only-of-type {\n",
       "        vertical-align: middle;\n",
       "    }\n",
       "\n",
       "    .dataframe tbody tr th {\n",
       "        vertical-align: top;\n",
       "    }\n",
       "\n",
       "    .dataframe thead th {\n",
       "        text-align: right;\n",
       "    }\n",
       "</style>\n",
       "<table border=\"1\" class=\"dataframe\">\n",
       "  <thead>\n",
       "    <tr style=\"text-align: right;\">\n",
       "      <th></th>\n",
       "      <th>gender</th>\n",
       "      <th>Age</th>\n",
       "      <th>BMI</th>\n",
       "      <th>Right PAI</th>\n",
       "      <th>Left PAI</th>\n",
       "    </tr>\n",
       "  </thead>\n",
       "  <tbody>\n",
       "    <tr>\n",
       "      <th>0</th>\n",
       "      <td>male</td>\n",
       "      <td>18</td>\n",
       "      <td>21.20</td>\n",
       "      <td>0.59</td>\n",
       "      <td>0.69</td>\n",
       "    </tr>\n",
       "    <tr>\n",
       "      <th>1</th>\n",
       "      <td>male</td>\n",
       "      <td>20</td>\n",
       "      <td>16.32</td>\n",
       "      <td>0.72</td>\n",
       "      <td>0.67</td>\n",
       "    </tr>\n",
       "    <tr>\n",
       "      <th>2</th>\n",
       "      <td>male</td>\n",
       "      <td>20</td>\n",
       "      <td>24.40</td>\n",
       "      <td>0.85</td>\n",
       "      <td>0.76</td>\n",
       "    </tr>\n",
       "    <tr>\n",
       "      <th>3</th>\n",
       "      <td>male</td>\n",
       "      <td>20</td>\n",
       "      <td>21.35</td>\n",
       "      <td>0.94</td>\n",
       "      <td>0.96</td>\n",
       "    </tr>\n",
       "    <tr>\n",
       "      <th>4</th>\n",
       "      <td>female</td>\n",
       "      <td>17</td>\n",
       "      <td>17.50</td>\n",
       "      <td>1.04</td>\n",
       "      <td>0.90</td>\n",
       "    </tr>\n",
       "    <tr>\n",
       "      <th>...</th>\n",
       "      <td>...</td>\n",
       "      <td>...</td>\n",
       "      <td>...</td>\n",
       "      <td>...</td>\n",
       "      <td>...</td>\n",
       "    </tr>\n",
       "    <tr>\n",
       "      <th>232</th>\n",
       "      <td>male</td>\n",
       "      <td>20</td>\n",
       "      <td>19.38</td>\n",
       "      <td>0.40</td>\n",
       "      <td>1.13</td>\n",
       "    </tr>\n",
       "    <tr>\n",
       "      <th>233</th>\n",
       "      <td>female</td>\n",
       "      <td>18</td>\n",
       "      <td>25.26</td>\n",
       "      <td>1.02</td>\n",
       "      <td>1.15</td>\n",
       "    </tr>\n",
       "    <tr>\n",
       "      <th>234</th>\n",
       "      <td>male</td>\n",
       "      <td>20</td>\n",
       "      <td>17.87</td>\n",
       "      <td>1.11</td>\n",
       "      <td>1.37</td>\n",
       "    </tr>\n",
       "    <tr>\n",
       "      <th>235</th>\n",
       "      <td>male</td>\n",
       "      <td>20</td>\n",
       "      <td>19.24</td>\n",
       "      <td>0.78</td>\n",
       "      <td>0.68</td>\n",
       "    </tr>\n",
       "    <tr>\n",
       "      <th>236</th>\n",
       "      <td>male</td>\n",
       "      <td>20</td>\n",
       "      <td>23.64</td>\n",
       "      <td>1.33</td>\n",
       "      <td>0.48</td>\n",
       "    </tr>\n",
       "  </tbody>\n",
       "</table>\n",
       "<p>237 rows × 5 columns</p>\n",
       "</div>"
      ],
      "text/plain": [
       "     gender  Age    BMI  Right PAI  Left PAI\n",
       "0      male   18  21.20       0.59      0.69\n",
       "1      male   20  16.32       0.72      0.67\n",
       "2      male   20  24.40       0.85      0.76\n",
       "3      male   20  21.35       0.94      0.96\n",
       "4    female   17  17.50       1.04      0.90\n",
       "..      ...  ...    ...        ...       ...\n",
       "232    male   20  19.38       0.40      1.13\n",
       "233  female   18  25.26       1.02      1.15\n",
       "234    male   20  17.87       1.11      1.37\n",
       "235    male   20  19.24       0.78      0.68\n",
       "236    male   20  23.64       1.33      0.48\n",
       "\n",
       "[237 rows x 5 columns]"
      ]
     },
     "execution_count": 3,
     "metadata": {},
     "output_type": "execute_result"
    }
   ],
   "source": [
    "data"
   ]
  },
  {
   "cell_type": "code",
   "execution_count": 4,
   "metadata": {},
   "outputs": [
    {
     "data": {
      "text/plain": [
       "male      179\n",
       "female     58\n",
       "Name: gender, dtype: int64"
      ]
     },
     "execution_count": 4,
     "metadata": {},
     "output_type": "execute_result"
    }
   ],
   "source": [
    "data['gender'].value_counts()"
   ]
  },
  {
   "cell_type": "code",
   "execution_count": 5,
   "metadata": {},
   "outputs": [
    {
     "data": {
      "text/html": [
       "<div>\n",
       "<style scoped>\n",
       "    .dataframe tbody tr th:only-of-type {\n",
       "        vertical-align: middle;\n",
       "    }\n",
       "\n",
       "    .dataframe tbody tr th {\n",
       "        vertical-align: top;\n",
       "    }\n",
       "\n",
       "    .dataframe thead th {\n",
       "        text-align: right;\n",
       "    }\n",
       "</style>\n",
       "<table border=\"1\" class=\"dataframe\">\n",
       "  <thead>\n",
       "    <tr style=\"text-align: right;\">\n",
       "      <th></th>\n",
       "      <th>Age</th>\n",
       "      <th>BMI</th>\n",
       "      <th>Right PAI</th>\n",
       "      <th>Left PAI</th>\n",
       "    </tr>\n",
       "  </thead>\n",
       "  <tbody>\n",
       "    <tr>\n",
       "      <th>count</th>\n",
       "      <td>237.000000</td>\n",
       "      <td>237.000000</td>\n",
       "      <td>237.000000</td>\n",
       "      <td>237.000000</td>\n",
       "    </tr>\n",
       "    <tr>\n",
       "      <th>mean</th>\n",
       "      <td>21.181435</td>\n",
       "      <td>21.553165</td>\n",
       "      <td>0.826498</td>\n",
       "      <td>0.838186</td>\n",
       "    </tr>\n",
       "    <tr>\n",
       "      <th>std</th>\n",
       "      <td>3.175114</td>\n",
       "      <td>3.068418</td>\n",
       "      <td>0.261239</td>\n",
       "      <td>0.243964</td>\n",
       "    </tr>\n",
       "    <tr>\n",
       "      <th>min</th>\n",
       "      <td>17.000000</td>\n",
       "      <td>14.340000</td>\n",
       "      <td>0.170000</td>\n",
       "      <td>0.170000</td>\n",
       "    </tr>\n",
       "    <tr>\n",
       "      <th>25%</th>\n",
       "      <td>20.000000</td>\n",
       "      <td>19.370000</td>\n",
       "      <td>0.680000</td>\n",
       "      <td>0.690000</td>\n",
       "    </tr>\n",
       "    <tr>\n",
       "      <th>50%</th>\n",
       "      <td>20.000000</td>\n",
       "      <td>21.460000</td>\n",
       "      <td>0.760000</td>\n",
       "      <td>0.770000</td>\n",
       "    </tr>\n",
       "    <tr>\n",
       "      <th>75%</th>\n",
       "      <td>22.000000</td>\n",
       "      <td>23.260000</td>\n",
       "      <td>0.910000</td>\n",
       "      <td>0.960000</td>\n",
       "    </tr>\n",
       "    <tr>\n",
       "      <th>max</th>\n",
       "      <td>41.000000</td>\n",
       "      <td>34.400000</td>\n",
       "      <td>2.420000</td>\n",
       "      <td>1.480000</td>\n",
       "    </tr>\n",
       "  </tbody>\n",
       "</table>\n",
       "</div>"
      ],
      "text/plain": [
       "              Age         BMI   Right PAI    Left PAI\n",
       "count  237.000000  237.000000  237.000000  237.000000\n",
       "mean    21.181435   21.553165    0.826498    0.838186\n",
       "std      3.175114    3.068418    0.261239    0.243964\n",
       "min     17.000000   14.340000    0.170000    0.170000\n",
       "25%     20.000000   19.370000    0.680000    0.690000\n",
       "50%     20.000000   21.460000    0.760000    0.770000\n",
       "75%     22.000000   23.260000    0.910000    0.960000\n",
       "max     41.000000   34.400000    2.420000    1.480000"
      ]
     },
     "execution_count": 5,
     "metadata": {},
     "output_type": "execute_result"
    }
   ],
   "source": [
    "data.describe()"
   ]
  },
  {
   "cell_type": "code",
   "execution_count": 6,
   "metadata": {},
   "outputs": [],
   "source": [
    "df= data.groupby('gender')\n",
    "df1 = df.get_group('male') \n",
    "df2 = df.get_group('female')"
   ]
  },
  {
   "cell_type": "code",
   "execution_count": 7,
   "metadata": {},
   "outputs": [
    {
     "data": {
      "text/html": [
       "<div>\n",
       "<style scoped>\n",
       "    .dataframe tbody tr th:only-of-type {\n",
       "        vertical-align: middle;\n",
       "    }\n",
       "\n",
       "    .dataframe tbody tr th {\n",
       "        vertical-align: top;\n",
       "    }\n",
       "\n",
       "    .dataframe thead th {\n",
       "        text-align: right;\n",
       "    }\n",
       "</style>\n",
       "<table border=\"1\" class=\"dataframe\">\n",
       "  <thead>\n",
       "    <tr style=\"text-align: right;\">\n",
       "      <th></th>\n",
       "      <th>Age</th>\n",
       "      <th>BMI</th>\n",
       "      <th>Right PAI</th>\n",
       "      <th>Left PAI</th>\n",
       "    </tr>\n",
       "  </thead>\n",
       "  <tbody>\n",
       "    <tr>\n",
       "      <th>count</th>\n",
       "      <td>179.000000</td>\n",
       "      <td>179.000000</td>\n",
       "      <td>179.000000</td>\n",
       "      <td>179.000000</td>\n",
       "    </tr>\n",
       "    <tr>\n",
       "      <th>mean</th>\n",
       "      <td>21.407821</td>\n",
       "      <td>21.403520</td>\n",
       "      <td>0.834190</td>\n",
       "      <td>0.844804</td>\n",
       "    </tr>\n",
       "    <tr>\n",
       "      <th>std</th>\n",
       "      <td>3.300689</td>\n",
       "      <td>3.146937</td>\n",
       "      <td>0.274015</td>\n",
       "      <td>0.243674</td>\n",
       "    </tr>\n",
       "    <tr>\n",
       "      <th>min</th>\n",
       "      <td>17.000000</td>\n",
       "      <td>14.340000</td>\n",
       "      <td>0.170000</td>\n",
       "      <td>0.170000</td>\n",
       "    </tr>\n",
       "    <tr>\n",
       "      <th>25%</th>\n",
       "      <td>20.000000</td>\n",
       "      <td>19.370000</td>\n",
       "      <td>0.680000</td>\n",
       "      <td>0.690000</td>\n",
       "    </tr>\n",
       "    <tr>\n",
       "      <th>50%</th>\n",
       "      <td>21.000000</td>\n",
       "      <td>21.280000</td>\n",
       "      <td>0.780000</td>\n",
       "      <td>0.790000</td>\n",
       "    </tr>\n",
       "    <tr>\n",
       "      <th>75%</th>\n",
       "      <td>22.000000</td>\n",
       "      <td>22.930000</td>\n",
       "      <td>0.915000</td>\n",
       "      <td>0.960000</td>\n",
       "    </tr>\n",
       "    <tr>\n",
       "      <th>max</th>\n",
       "      <td>41.000000</td>\n",
       "      <td>34.400000</td>\n",
       "      <td>2.420000</td>\n",
       "      <td>1.440000</td>\n",
       "    </tr>\n",
       "  </tbody>\n",
       "</table>\n",
       "</div>"
      ],
      "text/plain": [
       "              Age         BMI   Right PAI    Left PAI\n",
       "count  179.000000  179.000000  179.000000  179.000000\n",
       "mean    21.407821   21.403520    0.834190    0.844804\n",
       "std      3.300689    3.146937    0.274015    0.243674\n",
       "min     17.000000   14.340000    0.170000    0.170000\n",
       "25%     20.000000   19.370000    0.680000    0.690000\n",
       "50%     21.000000   21.280000    0.780000    0.790000\n",
       "75%     22.000000   22.930000    0.915000    0.960000\n",
       "max     41.000000   34.400000    2.420000    1.440000"
      ]
     },
     "execution_count": 7,
     "metadata": {},
     "output_type": "execute_result"
    }
   ],
   "source": [
    "df1.describe()"
   ]
  },
  {
   "cell_type": "code",
   "execution_count": 10,
   "metadata": {},
   "outputs": [
    {
     "data": {
      "text/html": [
       "<div>\n",
       "<style scoped>\n",
       "    .dataframe tbody tr th:only-of-type {\n",
       "        vertical-align: middle;\n",
       "    }\n",
       "\n",
       "    .dataframe tbody tr th {\n",
       "        vertical-align: top;\n",
       "    }\n",
       "\n",
       "    .dataframe thead th {\n",
       "        text-align: right;\n",
       "    }\n",
       "</style>\n",
       "<table border=\"1\" class=\"dataframe\">\n",
       "  <thead>\n",
       "    <tr style=\"text-align: right;\">\n",
       "      <th></th>\n",
       "      <th>Age</th>\n",
       "      <th>BMI</th>\n",
       "      <th>Right PAI</th>\n",
       "      <th>Left PAI</th>\n",
       "    </tr>\n",
       "  </thead>\n",
       "  <tbody>\n",
       "    <tr>\n",
       "      <th>count</th>\n",
       "      <td>58.000000</td>\n",
       "      <td>58.000000</td>\n",
       "      <td>58.000000</td>\n",
       "      <td>58.000000</td>\n",
       "    </tr>\n",
       "    <tr>\n",
       "      <th>mean</th>\n",
       "      <td>20.482759</td>\n",
       "      <td>22.015000</td>\n",
       "      <td>0.802759</td>\n",
       "      <td>0.817759</td>\n",
       "    </tr>\n",
       "    <tr>\n",
       "      <th>std</th>\n",
       "      <td>2.657273</td>\n",
       "      <td>2.787298</td>\n",
       "      <td>0.217553</td>\n",
       "      <td>0.245850</td>\n",
       "    </tr>\n",
       "    <tr>\n",
       "      <th>min</th>\n",
       "      <td>17.000000</td>\n",
       "      <td>15.510000</td>\n",
       "      <td>0.490000</td>\n",
       "      <td>0.480000</td>\n",
       "    </tr>\n",
       "    <tr>\n",
       "      <th>25%</th>\n",
       "      <td>19.000000</td>\n",
       "      <td>19.812500</td>\n",
       "      <td>0.680000</td>\n",
       "      <td>0.670000</td>\n",
       "    </tr>\n",
       "    <tr>\n",
       "      <th>50%</th>\n",
       "      <td>20.000000</td>\n",
       "      <td>21.770000</td>\n",
       "      <td>0.730000</td>\n",
       "      <td>0.750000</td>\n",
       "    </tr>\n",
       "    <tr>\n",
       "      <th>75%</th>\n",
       "      <td>21.750000</td>\n",
       "      <td>23.867500</td>\n",
       "      <td>0.900000</td>\n",
       "      <td>0.900000</td>\n",
       "    </tr>\n",
       "    <tr>\n",
       "      <th>max</th>\n",
       "      <td>30.000000</td>\n",
       "      <td>29.320000</td>\n",
       "      <td>1.430000</td>\n",
       "      <td>1.480000</td>\n",
       "    </tr>\n",
       "  </tbody>\n",
       "</table>\n",
       "</div>"
      ],
      "text/plain": [
       "             Age        BMI  Right PAI   Left PAI\n",
       "count  58.000000  58.000000  58.000000  58.000000\n",
       "mean   20.482759  22.015000   0.802759   0.817759\n",
       "std     2.657273   2.787298   0.217553   0.245850\n",
       "min    17.000000  15.510000   0.490000   0.480000\n",
       "25%    19.000000  19.812500   0.680000   0.670000\n",
       "50%    20.000000  21.770000   0.730000   0.750000\n",
       "75%    21.750000  23.867500   0.900000   0.900000\n",
       "max    30.000000  29.320000   1.430000   1.480000"
      ]
     },
     "execution_count": 10,
     "metadata": {},
     "output_type": "execute_result"
    }
   ],
   "source": [
    "df2.describe()"
   ]
  },
  {
   "cell_type": "code",
   "execution_count": 11,
   "metadata": {},
   "outputs": [
    {
     "data": {
      "text/plain": [
       "[<matplotlib.lines.Line2D at 0x9ed1375760>]"
      ]
     },
     "execution_count": 11,
     "metadata": {},
     "output_type": "execute_result"
    },
    {
     "data": {
      "image/png": "[encoded data removed]",
      "text/plain": [
       "<Figure size 432x288 with 1 Axes>"
      ]
     },
     "metadata": {
      "needs_background": "light"
     },
     "output_type": "display_data"
    }
   ],
   "source": [
    "from matplotlib import pyplot as pltf\n",
    "%matplotlib inline\n",
    "y = df1['BMI']\n",
    "x = df1['Right PAI']\n",
    "plt.xlabel('Right PAI')\n",
    "plt.ylabel('Body Mass Index')\n",
    "plt.plot(x,y, 'r--')"
   ]
  },
  {
   "cell_type": "code",
   "execution_count": 12,
   "metadata": {},
   "outputs": [
    {
     "data": {
      "image/png": "[encoded data removed]",
      "text/plain": [
       "<Figure size 432x288 with 1 Axes>"
      ]
     },
     "metadata": {
      "needs_background": "light"
     },
     "output_type": "display_data"
    }
   ],
   "source": [
    "fig=plt.figure()\n",
    "ax=fig.add_axes([0,0,1,1])\n",
    "bmi = df1['BMI']\n",
    "rpai = df1['Right PAI']\n",
    "lpai= df1['Left PAI']\n",
    "ax.scatter(rpai, bmi)\n",
    "ax.scatter(lpai,bmi, color='g')\n",
    "ax.set_xlabel('Plantar Arch Index')\n",
    "ax.set_ylabel('Body Mass Index')\n",
    "ax.set_title('Relationship between the indexes in Males')\n",
    "plt.savefig('Males', bbox_inches='tight')\n",
    "plt.show()"
   ]
  },
  {
   "cell_type": "code",
   "execution_count": 13,
   "metadata": {},
   "outputs": [
    {
     "data": {
      "image/png": "[encoded data removed]",
      "text/plain": [
       "<Figure size 432x288 with 1 Axes>"
      ]
     },
     "metadata": {
      "needs_background": "light"
     },
     "output_type": "display_data"
    }
   ],
   "source": [
    "fig=plt.figure()\n",
    "ax=fig.add_axes([0,0,1,1])\n",
    "bmi = df2['BMI']\n",
    "rpai = df2['Right PAI']\n",
    "lpai= df2['Left PAI']\n",
    "ax.scatter(rpai, bmi, color='y')\n",
    "ax.scatter(lpai,bmi, color='r')\n",
    "ax.set_xlabel('Plantar Arch Index')\n",
    "ax.set_ylabel('Body Mass Index')\n",
    "ax.set_title('Relationship between the indexes in Females')\n",
    "plt.savefig('Females', bbox_inches='tight')\n",
    "plt.show()"
   ]
  },
  {
   "cell_type": "code",
   "execution_count": 14,
   "metadata": {},
   "outputs": [
    {
     "data": {
      "image/png": "[encoded data removed]",
      "text/plain": [
       "<Figure size 432x288 with 1 Axes>"
      ]
     },
     "metadata": {
      "needs_background": "light"
     },
     "output_type": "display_data"
    }
   ],
   "source": [
    "fig=plt.figure()\n",
    "ax=fig.add_axes([0,0,1,1])\n",
    "bmi = data['BMI']\n",
    "rpai = data['Right PAI']\n",
    "lpai= data['Left PAI']\n",
    "ax.scatter(rpai, bmi, color='m')\n",
    "ax.scatter(lpai,bmi, color='c')\n",
    "ax.set_xlabel('Plantar Arch Index')\n",
    "ax.set_ylabel('Body Mass Index')\n",
    "ax.set_title('Relationship between Body Mass and Plantar Arch Index')\n",
    "plt.savefig('Relationship', bbox_inches='tight')\n",
    "plt.show()"
   ]
  },
  {
   "cell_type": "code",
   "execution_count": 15,
   "metadata": {},
   "outputs": [
    {
     "data": {
      "image/png": "[encoded data removed]",
      "text/plain": [
       "<Figure size 432x288 with 1 Axes>"
      ]
     },
     "metadata": {
      "needs_background": "light"
     },
     "output_type": "display_data"
    }
   ],
   "source": [
    "fig=plt.figure()\n",
    "ax=fig.add_axes([0,0,1,1])\n",
    "rpai = df1['Right PAI']\n",
    "lpai = df1['Left PAI']\n",
    "ax.scatter(lpai, rpai, color='m')\n",
    "plt.show()"
   ]
  },
  {
   "cell_type": "code",
   "execution_count": 16,
   "metadata": {},
   "outputs": [
    {
     "data": {
      "image/png": "[encoded data removed]",
      "text/plain": [
       "<Figure size 432x288 with 1 Axes>"
      ]
     },
     "metadata": {
      "needs_background": "light"
     },
     "output_type": "display_data"
    }
   ],
   "source": [
    "fig=plt.figure()\n",
    "ax=fig.add_axes([0,0,1,1])\n",
    "rpai = df2['Right PAI']\n",
    "lpai = df2['Left PAI']\n",
    "ax.scatter(lpai, rpai, color='c')\n",
    "plt.show()"
   ]
  },
  {
   "cell_type": "code",
   "execution_count": 17,
   "metadata": {},
   "outputs": [
    {
     "data": {
      "text/html": [
       "<div>\n",
       "<style scoped>\n",
       "    .dataframe tbody tr th:only-of-type {\n",
       "        vertical-align: middle;\n",
       "    }\n",
       "\n",
       "    .dataframe tbody tr th {\n",
       "        vertical-align: top;\n",
       "    }\n",
       "\n",
       "    .dataframe thead th {\n",
       "        text-align: right;\n",
       "    }\n",
       "</style>\n",
       "<table border=\"1\" class=\"dataframe\">\n",
       "  <thead>\n",
       "    <tr style=\"text-align: right;\">\n",
       "      <th></th>\n",
       "      <th>gender</th>\n",
       "      <th>Age</th>\n",
       "      <th>BMI</th>\n",
       "      <th>Right PAI</th>\n",
       "      <th>Left PAI</th>\n",
       "    </tr>\n",
       "  </thead>\n",
       "  <tbody>\n",
       "    <tr>\n",
       "      <th>0</th>\n",
       "      <td>male</td>\n",
       "      <td>18</td>\n",
       "      <td>21.20</td>\n",
       "      <td>0.59</td>\n",
       "      <td>0.69</td>\n",
       "    </tr>\n",
       "    <tr>\n",
       "      <th>1</th>\n",
       "      <td>male</td>\n",
       "      <td>20</td>\n",
       "      <td>16.32</td>\n",
       "      <td>0.72</td>\n",
       "      <td>0.67</td>\n",
       "    </tr>\n",
       "    <tr>\n",
       "      <th>2</th>\n",
       "      <td>male</td>\n",
       "      <td>20</td>\n",
       "      <td>24.40</td>\n",
       "      <td>0.85</td>\n",
       "      <td>0.76</td>\n",
       "    </tr>\n",
       "    <tr>\n",
       "      <th>3</th>\n",
       "      <td>male</td>\n",
       "      <td>20</td>\n",
       "      <td>21.35</td>\n",
       "      <td>0.94</td>\n",
       "      <td>0.96</td>\n",
       "    </tr>\n",
       "    <tr>\n",
       "      <th>5</th>\n",
       "      <td>male</td>\n",
       "      <td>18</td>\n",
       "      <td>18.79</td>\n",
       "      <td>0.76</td>\n",
       "      <td>0.72</td>\n",
       "    </tr>\n",
       "    <tr>\n",
       "      <th>...</th>\n",
       "      <td>...</td>\n",
       "      <td>...</td>\n",
       "      <td>...</td>\n",
       "      <td>...</td>\n",
       "      <td>...</td>\n",
       "    </tr>\n",
       "    <tr>\n",
       "      <th>231</th>\n",
       "      <td>male</td>\n",
       "      <td>20</td>\n",
       "      <td>19.05</td>\n",
       "      <td>0.70</td>\n",
       "      <td>0.75</td>\n",
       "    </tr>\n",
       "    <tr>\n",
       "      <th>232</th>\n",
       "      <td>male</td>\n",
       "      <td>20</td>\n",
       "      <td>19.38</td>\n",
       "      <td>0.40</td>\n",
       "      <td>1.13</td>\n",
       "    </tr>\n",
       "    <tr>\n",
       "      <th>234</th>\n",
       "      <td>male</td>\n",
       "      <td>20</td>\n",
       "      <td>17.87</td>\n",
       "      <td>1.11</td>\n",
       "      <td>1.37</td>\n",
       "    </tr>\n",
       "    <tr>\n",
       "      <th>235</th>\n",
       "      <td>male</td>\n",
       "      <td>20</td>\n",
       "      <td>19.24</td>\n",
       "      <td>0.78</td>\n",
       "      <td>0.68</td>\n",
       "    </tr>\n",
       "    <tr>\n",
       "      <th>236</th>\n",
       "      <td>male</td>\n",
       "      <td>20</td>\n",
       "      <td>23.64</td>\n",
       "      <td>1.33</td>\n",
       "      <td>0.48</td>\n",
       "    </tr>\n",
       "  </tbody>\n",
       "</table>\n",
       "<p>179 rows × 5 columns</p>\n",
       "</div>"
      ],
      "text/plain": [
       "    gender  Age    BMI  Right PAI  Left PAI\n",
       "0     male   18  21.20       0.59      0.69\n",
       "1     male   20  16.32       0.72      0.67\n",
       "2     male   20  24.40       0.85      0.76\n",
       "3     male   20  21.35       0.94      0.96\n",
       "5     male   18  18.79       0.76      0.72\n",
       "..     ...  ...    ...        ...       ...\n",
       "231   male   20  19.05       0.70      0.75\n",
       "232   male   20  19.38       0.40      1.13\n",
       "234   male   20  17.87       1.11      1.37\n",
       "235   male   20  19.24       0.78      0.68\n",
       "236   male   20  23.64       1.33      0.48\n",
       "\n",
       "[179 rows x 5 columns]"
      ]
     },
     "execution_count": 17,
     "metadata": {},
     "output_type": "execute_result"
    }
   ],
   "source": [
    "df1"
   ]
  },
  {
   "cell_type": "code",
   "execution_count": 18,
   "metadata": {},
   "outputs": [
    {
     "data": {
      "text/plain": [
       "89.50046464430554"
      ]
     },
     "execution_count": 18,
     "metadata": {},
     "output_type": "execute_result"
    }
   ],
   "source": [
    "n =179\n",
    "d = (df1['BMI']-df1['Right PAI']).sum()\n",
    "D= d/n\n",
    "a = ((df1['BMI']-df1['Right PAI'])**2).sum()\n",
    "b = ((df1['BMI']-df1['Right PAI']).sum())**2/n\n",
    "SD = ((a-b)/178)**(1/2)\n",
    "SE = SD/(n**(1/2))\n",
    "t_val = D/SE\n",
    "t_val"
   ]
  },
  {
   "cell_type": "code",
   "execution_count": 19,
   "metadata": {},
   "outputs": [
    {
     "data": {
      "text/plain": [
       "89.00223154385722"
      ]
     },
     "execution_count": 19,
     "metadata": {},
     "output_type": "execute_result"
    }
   ],
   "source": [
    "n =179\n",
    "d = (df1['BMI']-df1['Left PAI']).sum()\n",
    "D= d/n\n",
    "a = ((df1['BMI']-df1['Left PAI'])**2).sum()\n",
    "b = ((df1['BMI']-df1['Left PAI']).sum())**2/n\n",
    "SD = ((a-b)/178)**(1/2)\n",
    "SE = SD/(n**(1/2))\n",
    "t_val = D/SE\n",
    "t_val"
   ]
  },
  {
   "cell_type": "code",
   "execution_count": 20,
   "metadata": {},
   "outputs": [
    {
     "data": {
      "text/plain": [
       "0.34132400641781346"
      ]
     },
     "execution_count": 20,
     "metadata": {},
     "output_type": "execute_result"
    }
   ],
   "source": [
    "n =179\n",
    "d = (df1['Left PAI']-df1['Right PAI']).sum()\n",
    "D= d/n\n",
    "a = ((df1['Left PAI']-df1['Right PAI'])**2).sum()\n",
    "b = ((df1['Left PAI']-df1['Right PAI']).sum())**2/n\n",
    "SD = ((a-b)/57)**(1/2)\n",
    "SE = SD/(n**(1/2))\n",
    "t_val = D/SE\n",
    "t_val"
   ]
  },
  {
   "cell_type": "code",
   "execution_count": 21,
   "metadata": {},
   "outputs": [
    {
     "data": {
      "text/plain": [
       "58.19199039054111"
      ]
     },
     "execution_count": 21,
     "metadata": {},
     "output_type": "execute_result"
    }
   ],
   "source": [
    "n =58\n",
    "d = (df2['BMI']-df2['Right PAI']).sum()\n",
    "D= d/n\n",
    "a = ((df2['BMI']-df2['Right PAI'])**2).sum()\n",
    "b = ((df2['BMI']-df2['Right PAI']).sum())**2/n\n",
    "SD = ((a-b)/57)**(1/2)\n",
    "SE = SD/(n**(1/2))\n",
    "t_val = D/SE\n",
    "t_val"
   ]
  },
  {
   "cell_type": "code",
   "execution_count": 22,
   "metadata": {},
   "outputs": [
    {
     "data": {
      "text/plain": [
       "58.15865559141038"
      ]
     },
     "execution_count": 22,
     "metadata": {},
     "output_type": "execute_result"
    }
   ],
   "source": [
    "n =58\n",
    "d = (df2['BMI']-df2['Left PAI']).sum()\n",
    "D= d/n\n",
    "a = ((df2['BMI']-df2['Left PAI'])**2).sum()\n",
    "b = ((df2['BMI']-df2['Left PAI']).sum())**2/n\n",
    "SD = ((a-b)/57)**(1/2)\n",
    "SE = SD/(n**(1/2))\n",
    "t_val = D/SE\n",
    "t_val"
   ]
  },
  {
   "cell_type": "code",
   "execution_count": 23,
   "metadata": {},
   "outputs": [
    {
     "data": {
      "text/plain": [
       "0.5026038865771997"
      ]
     },
     "execution_count": 23,
     "metadata": {},
     "output_type": "execute_result"
    }
   ],
   "source": [
    "n =58\n",
    "d = (df2['Left PAI']-df2['Right PAI']).sum()\n",
    "D= d/n\n",
    "a = ((df2['Left PAI']-df2['Right PAI'])**2).sum()\n",
    "b = ((df2['Left PAI']-df2['Right PAI']).sum())**2/n\n",
    "SD = ((a-b)/57)**(1/2)\n",
    "SE = SD/(n**(1/2))\n",
    "t_val = D/SE\n",
    "t_val"
   ]
  },
  {
   "cell_type": "code",
   "execution_count": 24,
   "metadata": {},
   "outputs": [
    {
     "data": {
      "text/plain": [
       "105.9549150906338"
      ]
     },
     "execution_count": 24,
     "metadata": {},
     "output_type": "execute_result"
    }
   ],
   "source": [
    "n =237\n",
    "d = (data['BMI']-data['Right PAI']).sum()\n",
    "D= d/n\n",
    "a = ((data['BMI']-data['Right PAI'])**2).sum()\n",
    "b = ((data['BMI']-data['Right PAI']).sum())**2/n\n",
    "SD = ((a-b)/236)**(1/2)\n",
    "SE = SD/(n**(1/2))\n",
    "t_val = D/SE\n",
    "t_val"
   ]
  },
  {
   "cell_type": "code",
   "execution_count": 25,
   "metadata": {},
   "outputs": [
    {
     "data": {
      "text/plain": [
       "105.48261967898924"
      ]
     },
     "execution_count": 25,
     "metadata": {},
     "output_type": "execute_result"
    }
   ],
   "source": [
    "n =237\n",
    "d = (data['BMI']-data['Left PAI']).sum()\n",
    "D= d/n\n",
    "a = ((data['BMI']-data['Left PAI'])**2).sum()\n",
    "b = ((data['BMI']-data['Left PAI']).sum())**2/n\n",
    "SD = ((a-b)/236)**(1/2)\n",
    "SE = SD/(n**(1/2))\n",
    "t_val = D/SE\n",
    "t_val"
   ]
  },
  {
   "cell_type": "code",
   "execution_count": 26,
   "metadata": {},
   "outputs": [
    {
     "data": {
      "text/plain": [
       "0.7722196469892751"
      ]
     },
     "execution_count": 26,
     "metadata": {},
     "output_type": "execute_result"
    }
   ],
   "source": [
    "n =237\n",
    "d = (data['Left PAI']-data['Right PAI']).sum()\n",
    "D= d/n\n",
    "a = ((data['Left PAI']-data['Right PAI'])**2).sum()\n",
    "b = ((data['Left PAI']-data['Right PAI']).sum())**2/n\n",
    "SD = ((a-b)/236)**(1/2)\n",
    "SE = SD/(n**(1/2))\n",
    "t_val = D/SE\n",
    "t_val"
   ]
  },
  {
   "cell_type": "code",
   "execution_count": 27,
   "metadata": {},
   "outputs": [
    {
     "data": {
      "text/plain": [
       "20    61\n",
       "21    37\n",
       "19    33\n",
       "22    32\n",
       "18    18\n",
       "23    17\n",
       "24    14\n",
       "17     8\n",
       "26     5\n",
       "25     3\n",
       "36     2\n",
       "28     1\n",
       "29     1\n",
       "30     1\n",
       "32     1\n",
       "33     1\n",
       "35     1\n",
       "41     1\n",
       "Name: Age, dtype: int64"
      ]
     },
     "execution_count": 27,
     "metadata": {},
     "output_type": "execute_result"
    }
   ],
   "source": [
    "data['Age'].value_counts()"
   ]
  },
  {
   "cell_type": "code",
   "execution_count": 28,
   "metadata": {},
   "outputs": [],
   "source": [
    "g = {'Age range': pd.Series([59,171,7], index=['< 20 years','< 30 years', '30 years and above'])}"
   ]
  },
  {
   "cell_type": "code",
   "execution_count": 29,
   "metadata": {},
   "outputs": [],
   "source": [
    "df = pd.DataFrame(g)"
   ]
  },
  {
   "cell_type": "code",
   "execution_count": 30,
   "metadata": {},
   "outputs": [
    {
     "data": {
      "image/png": "[encoded data removed]",
      "text/plain": [
       "<Figure size 432x288 with 1 Axes>"
      ]
     },
     "metadata": {
      "needs_background": "light"
     },
     "output_type": "display_data"
    }
   ],
   "source": [
    "fig=df.plot.bar(color= 'red')\n",
    "fig.figure.savefig('Bar chart', bbox_inches='tight')"
   ]
  },
  {
   "cell_type": "code",
   "execution_count": 31,
   "metadata": {},
   "outputs": [
    {
     "data": {
      "image/png": "[encoded data removed]",
      "text/plain": [
       "<Figure size 432x288 with 1 Axes>"
      ]
     },
     "metadata": {},
     "output_type": "display_data"
    }
   ],
   "source": [
    "h = {'Gender': pd.Series([179,58], index=['Males', 'Females'])}\n",
    "df3= pd.DataFrame(h)\n",
    "fig=df3.plot.pie(subplots=True)\n",
    "fig[0].figure.savefig('Pie chart')"
   ]
  },
  {
   "cell_type": "code",
   "execution_count": null,
   "metadata": {},
   "outputs": [],
   "source": []
  }
 ],
 "metadata": {
  "kernelspec": {
   "display_name": "Python 3",
   "language": "python",
   "name": "python3"
  },
  "language_info": {
   "codemirror_mode": {
    "name": "ipython",
    "version": 3
   },
   "file_extension": ".py",
   "mimetype": "text/x-python",
   "name": "python",
   "nbconvert_exporter": "python",
   "pygments_lexer": "ipython3",
   "version": "3.8.5"
  }
 },
 "nbformat": 4,
 "nbformat_minor": 4
}
